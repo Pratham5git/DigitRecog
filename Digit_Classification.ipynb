{
  "nbformat": 4,
  "nbformat_minor": 0,
  "metadata": {
    "colab": {
      "name": "Digit_Classification.ipynb",
      "provenance": []
    },
    "kernelspec": {
      "name": "python3",
      "display_name": "Python 3"
    }
  },
  "cells": [
    {
      "cell_type": "code",
      "metadata": {
        "id": "NUReIGVviabA"
      },
      "source": [
        "import cv2\n",
        "import numpy as np\n",
        "from keras.datasets import mnist\n",
        "from keras.layers import Dense, Flatten\n",
        "from keras.layers.convolutional import Conv2D\n",
        "from keras.models import Sequential\n",
        "from keras.utils import to_categorical\n",
        "import matplotlib.pyplot as plt"
      ],
      "execution_count": 1,
      "outputs": []
    },
    {
      "cell_type": "code",
      "metadata": {
        "id": "4GJB-rGhikn2",
        "outputId": "e198ea66-50a5-4b3d-f67d-a1dd95938627",
        "colab": {
          "base_uri": "https://localhost:8080/",
          "height": 51
        }
      },
      "source": [
        "(X_train, y_train), (X_test, y_test) = mnist.load_data()"
      ],
      "execution_count": 2,
      "outputs": [
        {
          "output_type": "stream",
          "text": [
            "Downloading data from https://storage.googleapis.com/tensorflow/tf-keras-datasets/mnist.npz\n",
            "11493376/11490434 [==============================] - 0s 0us/step\n"
          ],
          "name": "stdout"
        }
      ]
    },
    {
      "cell_type": "code",
      "metadata": {
        "id": "9vmV5mxUir6O",
        "outputId": "b1dd2777-33aa-4600-b9ec-eef5aa2ac9e8",
        "colab": {
          "base_uri": "https://localhost:8080/",
          "height": 282
        }
      },
      "source": [
        "plt.imshow(X_train[0], cmap=\"gray\")\n",
        "plt.show()\n",
        "print (y_train[0])"
      ],
      "execution_count": 3,
      "outputs": [
        {
          "output_type": "display_data",
          "data": {
            "image/png": "[encoded data removed]",
            "text/plain": [
              "<Figure size 432x288 with 1 Axes>"
            ]
          },
          "metadata": {
            "tags": [],
            "needs_background": "light"
          }
        },
        {
          "output_type": "stream",
          "text": [
            "5\n"
          ],
          "name": "stdout"
        }
      ]
    },
    {
      "cell_type": "code",
      "metadata": {
        "id": "77yyZj7kiv9T",
        "outputId": "a77989b0-d52d-4d43-f089-489283782c33",
        "colab": {
          "base_uri": "https://localhost:8080/",
          "height": 85
        }
      },
      "source": [
        "print (\"Shape of X_train: {}\".format(X_train.shape))\n",
        "print (\"Shape of y_train: {}\".format(y_train.shape))\n",
        "print (\"Shape of X_test: {}\".format(X_test.shape))\n",
        "print (\"Shape of y_test: {}\".format(y_test.shape))"
      ],
      "execution_count": 4,
      "outputs": [
        {
          "output_type": "stream",
          "text": [
            "Shape of X_train: (60000, 28, 28)\n",
            "Shape of y_train: (60000,)\n",
            "Shape of X_test: (10000, 28, 28)\n",
            "Shape of y_test: (10000,)\n"
          ],
          "name": "stdout"
        }
      ]
    },
    {
      "cell_type": "code",
      "metadata": {
        "id": "pvSDVWKFi3ax"
      },
      "source": [
        "X_train = X_train.reshape(60000, 28, 28, 1)\n",
        "X_test = X_test.reshape(10000, 28, 28, 1)"
      ],
      "execution_count": 5,
      "outputs": []
    },
    {
      "cell_type": "code",
      "metadata": {
        "id": "vca33lYSi-cg",
        "outputId": "16bed6f8-caf1-48c1-8dd5-cb690fc6c610",
        "colab": {
          "base_uri": "https://localhost:8080/",
          "height": 85
        }
      },
      "source": [
        "print (\"Shape of X_train: {}\".format(X_train.shape))\n",
        "print (\"Shape of y_train: {}\".format(y_train.shape))\n",
        "print (\"Shape of X_test: {}\".format(X_test.shape))\n",
        "print (\"Shape of y_test: {}\".format(y_test.shape))"
      ],
      "execution_count": 6,
      "outputs": [
        {
          "output_type": "stream",
          "text": [
            "Shape of X_train: (60000, 28, 28, 1)\n",
            "Shape of y_train: (60000,)\n",
            "Shape of X_test: (10000, 28, 28, 1)\n",
            "Shape of y_test: (10000,)\n"
          ],
          "name": "stdout"
        }
      ]
    },
    {
      "cell_type": "code",
      "metadata": {
        "id": "3aVnhbzujGbH"
      },
      "source": [
        "y_train = to_categorical(y_train)\n",
        "y_test = to_categorical(y_test)"
      ],
      "execution_count": 7,
      "outputs": []
    },
    {
      "cell_type": "code",
      "metadata": {
        "id": "W7TRIRyPjKmh"
      },
      "source": [
        "model = Sequential()\n",
        "\n",
        "## Declare the layers\n",
        "layer_1 = Conv2D(32, kernel_size=3, activation='relu', input_shape=(28, 28, 1))\n",
        "layer_2 = Conv2D(64, kernel_size=3, activation='relu')\n",
        "layer_3 = Flatten()\n",
        "layer_4 = Dense(10, activation='softmax')\n",
        "\n",
        "## Add the layers to the model\n",
        "model.add(layer_1)\n",
        "model.add(layer_2)\n",
        "model.add(layer_3)\n",
        "model.add(layer_4)"
      ],
      "execution_count": 11,
      "outputs": []
    },
    {
      "cell_type": "code",
      "metadata": {
        "id": "0dpS-KPfj1_S"
      },
      "source": [
        "model.compile(optimizer='adam', loss='categorical_crossentropy', metrics=['accuracy'])"
      ],
      "execution_count": 13,
      "outputs": []
    },
    {
      "cell_type": "code",
      "metadata": {
        "id": "ll3TudWWj8Wp",
        "outputId": "22bd6357-ef9f-4faa-c2eb-a96c2471a30e",
        "colab": {
          "base_uri": "https://localhost:8080/",
          "height": 136
        }
      },
      "source": [
        "model.fit(X_train, y_train, validation_data=(X_test, y_test), epochs=3)"
      ],
      "execution_count": 14,
      "outputs": [
        {
          "output_type": "stream",
          "text": [
            "Epoch 1/3\n",
            "1875/1875 [==============================] - 147s 78ms/step - loss: 0.3785 - accuracy: 0.9527 - val_loss: 0.1065 - val_accuracy: 0.9706\n",
            "Epoch 2/3\n",
            "1875/1875 [==============================] - 152s 81ms/step - loss: 0.0684 - accuracy: 0.9792 - val_loss: 0.0893 - val_accuracy: 0.9761\n",
            "Epoch 3/3\n",
            "1875/1875 [==============================] - 145s 77ms/step - loss: 0.0490 - accuracy: 0.9845 - val_loss: 0.1045 - val_accuracy: 0.9738\n"
          ],
          "name": "stdout"
        },
        {
          "output_type": "execute_result",
          "data": {
            "text/plain": [
              "<tensorflow.python.keras.callbacks.History at 0x7f9f9e767128>"
            ]
          },
          "metadata": {
            "tags": []
          },
          "execution_count": 14
        }
      ]
    },
    {
      "cell_type": "code",
      "metadata": {
        "id": "NLncOqfGpMLv",
        "outputId": "2c2a2ea2-a368-4b85-aa08-2a326e496f02",
        "colab": {
          "base_uri": "https://localhost:8080/",
          "height": 554
        }
      },
      "source": [
        "example = X_train[1]\n",
        "prediction = model.predict(example.reshape(1, 28, 28, 1))\n",
        "## First output\n",
        "print (\"Prediction (Softmax) from the neural network:\\n\\n {}\".format(prediction))\n",
        "## Second output\n",
        "hard_maxed_prediction = np.zeros(prediction.shape)\n",
        "hard_maxed_prediction[0][np.argmax(prediction)] = 1\n",
        "print (\"\\n\\nHard-maxed form of the prediction: \\n\\n {}\".format(hard_maxed_prediction))\n",
        "## Third output\n",
        "print (\"\\n\\n--------- Prediction --------- \\n\\n\")\n",
        "plt.imshow(example.reshape(28, 28), cmap=\"gray\")\n",
        "plt.show()\n",
        "print(\"\\n\\nFinal Output: {}\".format(np.argmax(prediction)))"
      ],
      "execution_count": 15,
      "outputs": [
        {
          "output_type": "stream",
          "text": [
            "Prediction (Softmax) from the neural network:\n",
            "\n",
            " [[9.9999988e-01 7.0327318e-18 1.5813875e-09 4.5569564e-15 7.2955156e-13\n",
            "  3.3495837e-14 1.4310714e-07 3.4505707e-17 1.4295571e-11 5.6849110e-08]]\n",
            "\n",
            "\n",
            "Hard-maxed form of the prediction: \n",
            "\n",
            " [[1. 0. 0. 0. 0. 0. 0. 0. 0. 0.]]\n",
            "\n",
            "\n",
            "--------- Prediction --------- \n",
            "\n",
            "\n"
          ],
          "name": "stdout"
        },
        {
          "output_type": "display_data",
          "data": {
            "image/png": "[encoded data removed]",
            "text/plain": [
              "<Figure size 432x288 with 1 Axes>"
            ]
          },
          "metadata": {
            "tags": [],
            "needs_background": "light"
          }
        },
        {
          "output_type": "stream",
          "text": [
            "\n",
            "\n",
            "Final Output: 0\n"
          ],
          "name": "stdout"
        }
      ]
    },
    {
      "cell_type": "code",
      "metadata": {
        "id": "EzGmeconpZHv",
        "outputId": "2e8ec6aa-486c-4945-d4df-72c56d8f2b9c",
        "colab": {
          "base_uri": "https://localhost:8080/",
          "height": 266
        }
      },
      "source": [
        "image = cv2.imread('predict.jpg')\n",
        "kernel = np.ones((5,5), np.uint8)\n",
        "img_erode = cv2.erode(image, kernel, iterations=14)\n",
        "grey = cv2.cvtColor(img_erode.copy(), cv2.COLOR_BGR2GRAY)\n",
        "\n",
        "\n",
        "ret, thresh = cv2.threshold(grey.copy(), 75, 255, cv2.THRESH_BINARY_INV)\n",
        "contours, _ = cv2.findContours(thresh.copy(), cv2.RETR_EXTERNAL, cv2.CHAIN_APPROX_SIMPLE)\n",
        "preprocessed_digits = []\n",
        "for c in contours:\n",
        "    x,y,w,h = cv2.boundingRect(c)\n",
        "    \n",
        "    # Creating a rectangle around the digit in the original image (for displaying the digits fetched via contours)\n",
        "    cv2.rectangle(image, (x,y), (x+w, y+h), color=(0, 255, 0), thickness=3)\n",
        "    \n",
        "    # Cropping out the digit from the image corresponding to the current contours in the for loop\n",
        "    digit = thresh[y:y+h, x:x+w]\n",
        "    \n",
        "    # Resizing that digit to (18, 18)\n",
        "    resized_digit = cv2.resize(digit, (18,18))\n",
        "    \n",
        "    # Padding the digit with 5 pixels of black color (zeros) in each side to finally produce the image of (28, 28)\n",
        "    padded_digit = np.pad(resized_digit, ((5,5),(5,5)), \"constant\", constant_values=0)\n",
        "    \n",
        "    # Adding the preprocessed digit to the list of preprocessed digits\n",
        "    preprocessed_digits.append(padded_digit)\n",
        "print(\"\\n\\n\\n----------------Contoured Image--------------------\")\n",
        "plt.imshow(image, cmap=\"gray\")\n",
        "plt.show()\n",
        "    \n",
        "inp = np.array(preprocessed_digits)"
      ],
      "execution_count": 72,
      "outputs": [
        {
          "output_type": "stream",
          "text": [
            "\n",
            "\n",
            "\n",
            "----------------Contoured Image--------------------\n"
          ],
          "name": "stdout"
        },
        {
          "output_type": "display_data",
          "data": {
            "image/png": "[encoded data removed]",
            "text/plain": [
              "<Figure size 432x288 with 1 Axes>"
            ]
          },
          "metadata": {
            "tags": [],
            "needs_background": "light"
          }
        }
      ]
    },
    {
      "cell_type": "code",
      "metadata": {
        "id": "sNrQDo14p6aT",
        "outputId": "97bfd317-068c-4bb0-928d-aea6c8d11ca9",
        "colab": {
          "base_uri": "https://localhost:8080/",
          "height": 1000
        }
      },
      "source": [
        "for digit in preprocessed_digits:\n",
        "    prediction = model.predict(digit.reshape(1, 28, 28, 1))  \n",
        "    \n",
        "    print (\"\\n\\n---------------------------------------\\n\\n\")\n",
        "    print (\"=========PREDICTION============ \\n\\n\")\n",
        "    plt.imshow(digit.reshape(28, 28), cmap=\"gray\")\n",
        "    plt.show()\n",
        "    print(\"\\n\\nFinal Output: {}\".format(np.argmax(prediction)))\n",
        "    \n",
        "    print (\"\\nPrediction (Softmax) from the neural network:\\n\\n {}\".format(prediction))\n",
        "    \n",
        "    hard_maxed_prediction = np.zeros(prediction.shape)\n",
        "    hard_maxed_prediction[0][np.argmax(prediction)] = 1\n",
        "    print (\"\\n\\nHard-maxed form of the prediction: \\n\\n {}\".format(hard_maxed_prediction))\n",
        "    print (\"\\n\\n---------------------------------------\\n\\n\")"
      ],
      "execution_count": 56,
      "outputs": [
        {
          "output_type": "stream",
          "text": [
            "\n",
            "\n",
            "---------------------------------------\n",
            "\n",
            "\n",
            "=========PREDICTION============ \n",
            "\n",
            "\n"
          ],
          "name": "stdout"
        },
        {
          "output_type": "display_data",
          "data": {
            "image/png": "[encoded data removed]",
            "text/plain": [
              "<Figure size 432x288 with 1 Axes>"
            ]
          },
          "metadata": {
            "tags": [],
            "needs_background": "light"
          }
        },
        {
          "output_type": "stream",
          "text": [
            "\n",
            "\n",
            "Final Output: 2\n",
            "\n",
            "Prediction (Softmax) from the neural network:\n",
            "\n",
            " [[5.9210264e-10 1.7320067e-18 1.0000000e+00 4.8128830e-16 3.4321038e-15\n",
            "  1.4871396e-15 5.3064674e-15 1.2381243e-09 9.8043981e-19 3.0914794e-13]]\n",
            "\n",
            "\n",
            "Hard-maxed form of the prediction: \n",
            "\n",
            " [[0. 0. 1. 0. 0. 0. 0. 0. 0. 0.]]\n",
            "\n",
            "\n",
            "---------------------------------------\n",
            "\n",
            "\n",
            "\n",
            "\n",
            "---------------------------------------\n",
            "\n",
            "\n",
            "=========PREDICTION============ \n",
            "\n",
            "\n"
          ],
          "name": "stdout"
        },
        {
          "output_type": "display_data",
          "data": {
            "image/png": "[encoded data removed]",
            "text/plain": [
              "<Figure size 432x288 with 1 Axes>"
            ]
          },
          "metadata": {
            "tags": [],
            "needs_background": "light"
          }
        },
        {
          "output_type": "stream",
          "text": [
            "\n",
            "\n",
            "Final Output: 3\n",
            "\n",
            "Prediction (Softmax) from the neural network:\n",
            "\n",
            " [[8.03938889e-08 6.02258174e-11 7.65722070e-04 9.99152422e-01\n",
            "  6.50722694e-13 1.26161058e-06 3.19454038e-14 2.78958089e-11\n",
            "  8.05067975e-05 1.18597505e-08]]\n",
            "\n",
            "\n",
            "Hard-maxed form of the prediction: \n",
            "\n",
            " [[0. 0. 0. 1. 0. 0. 0. 0. 0. 0.]]\n",
            "\n",
            "\n",
            "---------------------------------------\n",
            "\n",
            "\n",
            "\n",
            "\n",
            "---------------------------------------\n",
            "\n",
            "\n",
            "=========PREDICTION============ \n",
            "\n",
            "\n"
          ],
          "name": "stdout"
        },
        {
          "output_type": "display_data",
          "data": {
            "image/png": "[encoded data removed]",
            "text/plain": [
              "<Figure size 432x288 with 1 Axes>"
            ]
          },
          "metadata": {
            "tags": [],
            "needs_background": "light"
          }
        },
        {
          "output_type": "stream",
          "text": [
            "\n",
            "\n",
            "Final Output: 5\n",
            "\n",
            "Prediction (Softmax) from the neural network:\n",
            "\n",
            " [[5.65393869e-13 2.44621218e-19 2.36836249e-21 1.14740645e-16\n",
            "  2.35786945e-21 1.00000000e+00 1.78594327e-11 1.41322554e-23\n",
            "  6.42648068e-09 1.03467054e-10]]\n",
            "\n",
            "\n",
            "Hard-maxed form of the prediction: \n",
            "\n",
            " [[0. 0. 0. 0. 0. 1. 0. 0. 0. 0.]]\n",
            "\n",
            "\n",
            "---------------------------------------\n",
            "\n",
            "\n"
          ],
          "name": "stdout"
        }
      ]
    }
  ]
}